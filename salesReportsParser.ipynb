{
 "cells": [
  {
   "cell_type": "markdown",
   "id": "5b69412e-9271-4d39-96c1-4ae6ca8e1340",
   "metadata": {},
   "source": [
    "## Revel daily sales report: ingesting sales files provided by Ray"
   ]
  },
  {
   "cell_type": "code",
   "execution_count": 29,
   "id": "3ee165f0-1d81-47bf-b285-7a39bf8baffe",
   "metadata": {},
   "outputs": [],
   "source": [
    "import os\n",
    "import pandas as pd\n",
    "import re\n",
    "import matplotlib.pyplot as plt\n",
    "from datetime import date\n",
    "from datetime import datetime, timedelta\n",
    "from itertools import compress\n",
    "import matplotlib.ticker as mtick"
   ]
  },
  {
   "cell_type": "code",
   "execution_count": 2,
   "id": "1d7c81c0-380c-4248-883c-d112f2ab2e03",
   "metadata": {},
   "outputs": [
    {
     "data": {
      "text/plain": [
       "'/home/mofongo/Documents/ghfc/salesAnalysis/github_finance'"
      ]
     },
     "execution_count": 2,
     "metadata": {},
     "output_type": "execute_result"
    }
   ],
   "source": [
    "os.getcwd()"
   ]
  },
  {
   "cell_type": "code",
   "execution_count": 3,
   "id": "852d7434-1444-439b-b4ef-56226bc106fc",
   "metadata": {},
   "outputs": [],
   "source": [
    "os.chdir('/home/mofongo/Documents/ghfc/salesAnalysis/rawRevelExports/')"
   ]
  },
  {
   "cell_type": "code",
   "execution_count": 6,
   "id": "9d347941-25ca-467b-8dd4-0aedbe8500cd",
   "metadata": {},
   "outputs": [],
   "source": [
    "#this directory stores all sales files I wish to consolidate\n",
    "#os.listdir('./revelSalesFiles')"
   ]
  },
  {
   "cell_type": "code",
   "execution_count": 4,
   "id": "c82c16ae-14f9-4c3e-ad9f-c2cdabd375c1",
   "metadata": {},
   "outputs": [],
   "source": [
    "excel_list = []\n",
    "str_dir = './revelSalesFiles/'\n",
    "for file in os.listdir('./revelSalesFiles/'):\n",
    "    excel_list.append(pd.read_excel(str_dir+file))"
   ]
  },
  {
   "cell_type": "code",
   "execution_count": 6,
   "id": "86be3ddb-cb48-4c84-be97-b60da03dd3c0",
   "metadata": {},
   "outputs": [
    {
     "data": {
      "text/plain": [
       "(296, 30)"
      ]
     },
     "execution_count": 6,
     "metadata": {},
     "output_type": "execute_result"
    }
   ],
   "source": [
    "history = pd.concat(excel_list, ignore_index = True)\n",
    "history.shape"
   ]
  },
  {
   "cell_type": "code",
   "execution_count": 7,
   "id": "c2390a5d",
   "metadata": {},
   "outputs": [
    {
     "data": {
      "text/html": [
       "<div>\n",
       "<style scoped>\n",
       "    .dataframe tbody tr th:only-of-type {\n",
       "        vertical-align: middle;\n",
       "    }\n",
       "\n",
       "    .dataframe tbody tr th {\n",
       "        vertical-align: top;\n",
       "    }\n",
       "\n",
       "    .dataframe thead th {\n",
       "        text-align: right;\n",
       "    }\n",
       "</style>\n",
       "<table border=\"1\" class=\"dataframe\">\n",
       "  <thead>\n",
       "    <tr style=\"text-align: right;\">\n",
       "      <th></th>\n",
       "      <th>Date</th>\n",
       "      <th>Taxable Sales</th>\n",
       "      <th>Non Taxable Sales</th>\n",
       "      <th>Service Fees</th>\n",
       "      <th>Discount</th>\n",
       "      <th>Sales Taxes</th>\n",
       "      <th>Net Sales</th>\n",
       "      <th>Unnamed: 7</th>\n",
       "      <th>Total Payments</th>\n",
       "      <th>Store Credit</th>\n",
       "      <th>...</th>\n",
       "      <th>Other</th>\n",
       "      <th>Other Credit</th>\n",
       "      <th>MasterCard</th>\n",
       "      <th>Debit</th>\n",
       "      <th>Maestro</th>\n",
       "      <th>Trade</th>\n",
       "      <th>Badges</th>\n",
       "      <th>House Account</th>\n",
       "      <th>Visa</th>\n",
       "      <th>Interac</th>\n",
       "    </tr>\n",
       "  </thead>\n",
       "  <tbody>\n",
       "    <tr>\n",
       "      <th>0</th>\n",
       "      <td>03/27/2023</td>\n",
       "      <td>107.66</td>\n",
       "      <td>2040.25</td>\n",
       "      <td>0</td>\n",
       "      <td>271.14</td>\n",
       "      <td>9.55</td>\n",
       "      <td>1876.77</td>\n",
       "      <td>NaN</td>\n",
       "      <td>1886.32</td>\n",
       "      <td>0</td>\n",
       "      <td>...</td>\n",
       "      <td>0.00</td>\n",
       "      <td>0.0</td>\n",
       "      <td>288.42</td>\n",
       "      <td>0</td>\n",
       "      <td>0</td>\n",
       "      <td>0</td>\n",
       "      <td>0</td>\n",
       "      <td>0</td>\n",
       "      <td>1250.04</td>\n",
       "      <td>NaN</td>\n",
       "    </tr>\n",
       "    <tr>\n",
       "      <th>1</th>\n",
       "      <td>03/28/2023</td>\n",
       "      <td>168.33</td>\n",
       "      <td>2087.32</td>\n",
       "      <td>0</td>\n",
       "      <td>68.70</td>\n",
       "      <td>14.94</td>\n",
       "      <td>2186.95</td>\n",
       "      <td>NaN</td>\n",
       "      <td>2201.89</td>\n",
       "      <td>0</td>\n",
       "      <td>...</td>\n",
       "      <td>122.41</td>\n",
       "      <td>0.0</td>\n",
       "      <td>301.33</td>\n",
       "      <td>0</td>\n",
       "      <td>0</td>\n",
       "      <td>0</td>\n",
       "      <td>0</td>\n",
       "      <td>0</td>\n",
       "      <td>1394.75</td>\n",
       "      <td>NaN</td>\n",
       "    </tr>\n",
       "    <tr>\n",
       "      <th>2</th>\n",
       "      <td>03/29/2023</td>\n",
       "      <td>123.91</td>\n",
       "      <td>2062.63</td>\n",
       "      <td>0</td>\n",
       "      <td>149.08</td>\n",
       "      <td>10.99</td>\n",
       "      <td>2037.46</td>\n",
       "      <td>NaN</td>\n",
       "      <td>2048.45</td>\n",
       "      <td>0</td>\n",
       "      <td>...</td>\n",
       "      <td>0.00</td>\n",
       "      <td>0.0</td>\n",
       "      <td>281.16</td>\n",
       "      <td>0</td>\n",
       "      <td>0</td>\n",
       "      <td>0</td>\n",
       "      <td>0</td>\n",
       "      <td>0</td>\n",
       "      <td>1463.23</td>\n",
       "      <td>NaN</td>\n",
       "    </tr>\n",
       "    <tr>\n",
       "      <th>3</th>\n",
       "      <td>03/30/2023</td>\n",
       "      <td>238.64</td>\n",
       "      <td>1997.39</td>\n",
       "      <td>0</td>\n",
       "      <td>193.46</td>\n",
       "      <td>21.17</td>\n",
       "      <td>2042.57</td>\n",
       "      <td>NaN</td>\n",
       "      <td>2062.87</td>\n",
       "      <td>0</td>\n",
       "      <td>...</td>\n",
       "      <td>0.00</td>\n",
       "      <td>0.0</td>\n",
       "      <td>281.48</td>\n",
       "      <td>0</td>\n",
       "      <td>0</td>\n",
       "      <td>0</td>\n",
       "      <td>0</td>\n",
       "      <td>0</td>\n",
       "      <td>1512.60</td>\n",
       "      <td>NaN</td>\n",
       "    </tr>\n",
       "    <tr>\n",
       "      <th>4</th>\n",
       "      <td>03/31/2023</td>\n",
       "      <td>223.27</td>\n",
       "      <td>2702.30</td>\n",
       "      <td>0</td>\n",
       "      <td>176.94</td>\n",
       "      <td>19.82</td>\n",
       "      <td>2748.63</td>\n",
       "      <td>NaN</td>\n",
       "      <td>2768.45</td>\n",
       "      <td>0</td>\n",
       "      <td>...</td>\n",
       "      <td>0.00</td>\n",
       "      <td>0.0</td>\n",
       "      <td>530.99</td>\n",
       "      <td>0</td>\n",
       "      <td>0</td>\n",
       "      <td>0</td>\n",
       "      <td>0</td>\n",
       "      <td>0</td>\n",
       "      <td>1528.08</td>\n",
       "      <td>NaN</td>\n",
       "    </tr>\n",
       "  </tbody>\n",
       "</table>\n",
       "<p>5 rows × 30 columns</p>\n",
       "</div>"
      ],
      "text/plain": [
       "         Date  Taxable Sales  Non Taxable Sales  Service Fees  Discount  \\\n",
       "0  03/27/2023         107.66            2040.25             0    271.14   \n",
       "1  03/28/2023         168.33            2087.32             0     68.70   \n",
       "2  03/29/2023         123.91            2062.63             0    149.08   \n",
       "3  03/30/2023         238.64            1997.39             0    193.46   \n",
       "4  03/31/2023         223.27            2702.30             0    176.94   \n",
       "\n",
       "   Sales Taxes  Net Sales  Unnamed: 7  Total Payments  Store Credit  ...  \\\n",
       "0         9.55    1876.77         NaN         1886.32             0  ...   \n",
       "1        14.94    2186.95         NaN         2201.89             0  ...   \n",
       "2        10.99    2037.46         NaN         2048.45             0  ...   \n",
       "3        21.17    2042.57         NaN         2062.87             0  ...   \n",
       "4        19.82    2748.63         NaN         2768.45             0  ...   \n",
       "\n",
       "    Other  Other Credit  MasterCard  Debit  Maestro  Trade  Badges  \\\n",
       "0    0.00           0.0      288.42      0        0      0       0   \n",
       "1  122.41           0.0      301.33      0        0      0       0   \n",
       "2    0.00           0.0      281.16      0        0      0       0   \n",
       "3    0.00           0.0      281.48      0        0      0       0   \n",
       "4    0.00           0.0      530.99      0        0      0       0   \n",
       "\n",
       "   House Account     Visa  Interac  \n",
       "0              0  1250.04      NaN  \n",
       "1              0  1394.75      NaN  \n",
       "2              0  1463.23      NaN  \n",
       "3              0  1512.60      NaN  \n",
       "4              0  1528.08      NaN  \n",
       "\n",
       "[5 rows x 30 columns]"
      ]
     },
     "execution_count": 7,
     "metadata": {},
     "output_type": "execute_result"
    }
   ],
   "source": [
    "history.head()"
   ]
  },
  {
   "cell_type": "code",
   "execution_count": 7,
   "id": "a79e6d63-698e-4126-8b2c-db4a66f3dabf",
   "metadata": {},
   "outputs": [],
   "source": [
    "#fix the col headers\n",
    "history.columns = [i.replace(' ','_') for i in history.columns]"
   ]
  },
  {
   "cell_type": "code",
   "execution_count": 14,
   "id": "77a70234",
   "metadata": {},
   "outputs": [],
   "source": [
    "history2 = history.loc[history['Date'] != 'Totals',:]"
   ]
  },
  {
   "cell_type": "markdown",
   "id": "4d738faf",
   "metadata": {},
   "source": [
    "Remove the **Totals** row that appears at the end of each report import."
   ]
  },
  {
   "cell_type": "code",
   "execution_count": 19,
   "id": "195755b9",
   "metadata": {},
   "outputs": [],
   "source": [
    "#sanity check on expected dates\n",
    "history3 = history2.assign(Date = pd.to_datetime(history2['Date'],format = '%m/%d/%Y'))"
   ]
  },
  {
   "cell_type": "markdown",
   "id": "fcc27afd",
   "metadata": {},
   "source": [
    "Min = 12/26/2022; max = 9/24/2023"
   ]
  },
  {
   "cell_type": "code",
   "execution_count": null,
   "id": "de25746e",
   "metadata": {},
   "outputs": [
    {
     "data": {
      "text/plain": [
       "count                              259\n",
       "mean     2023-05-07 18:48:38.918918912\n",
       "min                2022-12-26 00:00:00\n",
       "25%                2023-02-28 12:00:00\n",
       "50%                2023-05-04 00:00:00\n",
       "75%                2023-07-14 12:00:00\n",
       "max                2023-09-24 00:00:00\n",
       "Name: Date, dtype: object"
      ]
     },
     "execution_count": 22,
     "metadata": {},
     "output_type": "execute_result"
    }
   ],
   "source": [
    "history3['Date'].describe()"
   ]
  },
  {
   "cell_type": "code",
   "execution_count": null,
   "id": "9568c0f7",
   "metadata": {},
   "outputs": [
    {
     "data": {
      "text/plain": [
       "True"
      ]
     },
     "execution_count": 26,
     "metadata": {},
     "output_type": "execute_result"
    }
   ],
   "source": [
    "#check for duplicates\n",
    "#columns to keep\n",
    "cols_keep = ['Date', 'Discount', 'Net_Sales', 'Total_Payments']\n",
    "#if TRUE, then no dupes\n",
    "history3.drop_duplicates(cols_keep).shape == history3.shape"
   ]
  },
  {
   "cell_type": "code",
   "execution_count": 33,
   "id": "6d4e66dc",
   "metadata": {},
   "outputs": [
    {
     "data": {
      "text/plain": [
       "(259, 30)"
      ]
     },
     "execution_count": 33,
     "metadata": {},
     "output_type": "execute_result"
    }
   ],
   "source": [
    "history3.shape"
   ]
  },
  {
   "cell_type": "code",
   "execution_count": 34,
   "id": "97e2868e",
   "metadata": {},
   "outputs": [
    {
     "name": "stdout",
     "output_type": "stream",
     "text": [
      "\u001b[0;31mInit signature:\u001b[0m\n",
      "\u001b[0mpd\u001b[0m\u001b[0;34m.\u001b[0m\u001b[0mDataFrame\u001b[0m\u001b[0;34m(\u001b[0m\u001b[0;34m\u001b[0m\n",
      "\u001b[0;34m\u001b[0m    \u001b[0mdata\u001b[0m\u001b[0;34m=\u001b[0m\u001b[0;32mNone\u001b[0m\u001b[0;34m,\u001b[0m\u001b[0;34m\u001b[0m\n",
      "\u001b[0;34m\u001b[0m    \u001b[0mindex\u001b[0m\u001b[0;34m:\u001b[0m \u001b[0;34m'Axes | None'\u001b[0m \u001b[0;34m=\u001b[0m \u001b[0;32mNone\u001b[0m\u001b[0;34m,\u001b[0m\u001b[0;34m\u001b[0m\n",
      "\u001b[0;34m\u001b[0m    \u001b[0mcolumns\u001b[0m\u001b[0;34m:\u001b[0m \u001b[0;34m'Axes | None'\u001b[0m \u001b[0;34m=\u001b[0m \u001b[0;32mNone\u001b[0m\u001b[0;34m,\u001b[0m\u001b[0;34m\u001b[0m\n",
      "\u001b[0;34m\u001b[0m    \u001b[0mdtype\u001b[0m\u001b[0;34m:\u001b[0m \u001b[0;34m'Dtype | None'\u001b[0m \u001b[0;34m=\u001b[0m \u001b[0;32mNone\u001b[0m\u001b[0;34m,\u001b[0m\u001b[0;34m\u001b[0m\n",
      "\u001b[0;34m\u001b[0m    \u001b[0mcopy\u001b[0m\u001b[0;34m:\u001b[0m \u001b[0;34m'bool | None'\u001b[0m \u001b[0;34m=\u001b[0m \u001b[0;32mNone\u001b[0m\u001b[0;34m,\u001b[0m\u001b[0;34m\u001b[0m\n",
      "\u001b[0;34m\u001b[0m\u001b[0;34m)\u001b[0m \u001b[0;34m->\u001b[0m \u001b[0;34m'None'\u001b[0m\u001b[0;34m\u001b[0m\u001b[0;34m\u001b[0m\u001b[0m\n",
      "\u001b[0;31mDocstring:\u001b[0m     \n",
      "Two-dimensional, size-mutable, potentially heterogeneous tabular data.\n",
      "\n",
      "Data structure also contains labeled axes (rows and columns).\n",
      "Arithmetic operations align on both row and column labels. Can be\n",
      "thought of as a dict-like container for Series objects. The primary\n",
      "pandas data structure.\n",
      "\n",
      "Parameters\n",
      "----------\n",
      "data : ndarray (structured or homogeneous), Iterable, dict, or DataFrame\n",
      "    Dict can contain Series, arrays, constants, dataclass or list-like objects. If\n",
      "    data is a dict, column order follows insertion-order. If a dict contains Series\n",
      "    which have an index defined, it is aligned by its index. This alignment also\n",
      "    occurs if data is a Series or a DataFrame itself. Alignment is done on\n",
      "    Series/DataFrame inputs.\n",
      "\n",
      "    If data is a list of dicts, column order follows insertion-order.\n",
      "\n",
      "index : Index or array-like\n",
      "    Index to use for resulting frame. Will default to RangeIndex if\n",
      "    no indexing information part of input data and no index provided.\n",
      "columns : Index or array-like\n",
      "    Column labels to use for resulting frame when data does not have them,\n",
      "    defaulting to RangeIndex(0, 1, 2, ..., n). If data contains column labels,\n",
      "    will perform column selection instead.\n",
      "dtype : dtype, default None\n",
      "    Data type to force. Only a single dtype is allowed. If None, infer.\n",
      "copy : bool or None, default None\n",
      "    Copy data from inputs.\n",
      "    For dict data, the default of None behaves like ``copy=True``.  For DataFrame\n",
      "    or 2d ndarray input, the default of None behaves like ``copy=False``.\n",
      "    If data is a dict containing one or more Series (possibly of different dtypes),\n",
      "    ``copy=False`` will ensure that these inputs are not copied.\n",
      "\n",
      "    .. versionchanged:: 1.3.0\n",
      "\n",
      "See Also\n",
      "--------\n",
      "DataFrame.from_records : Constructor from tuples, also record arrays.\n",
      "DataFrame.from_dict : From dicts of Series, arrays, or dicts.\n",
      "read_csv : Read a comma-separated values (csv) file into DataFrame.\n",
      "read_table : Read general delimited file into DataFrame.\n",
      "read_clipboard : Read text from clipboard into DataFrame.\n",
      "\n",
      "Notes\n",
      "-----\n",
      "Please reference the :ref:`User Guide <basics.dataframe>` for more information.\n",
      "\n",
      "Examples\n",
      "--------\n",
      "Constructing DataFrame from a dictionary.\n",
      "\n",
      ">>> d = {'col1': [1, 2], 'col2': [3, 4]}\n",
      ">>> df = pd.DataFrame(data=d)\n",
      ">>> df\n",
      "   col1  col2\n",
      "0     1     3\n",
      "1     2     4\n",
      "\n",
      "Notice that the inferred dtype is int64.\n",
      "\n",
      ">>> df.dtypes\n",
      "col1    int64\n",
      "col2    int64\n",
      "dtype: object\n",
      "\n",
      "To enforce a single dtype:\n",
      "\n",
      ">>> df = pd.DataFrame(data=d, dtype=np.int8)\n",
      ">>> df.dtypes\n",
      "col1    int8\n",
      "col2    int8\n",
      "dtype: object\n",
      "\n",
      "Constructing DataFrame from a dictionary including Series:\n",
      "\n",
      ">>> d = {'col1': [0, 1, 2, 3], 'col2': pd.Series([2, 3], index=[2, 3])}\n",
      ">>> pd.DataFrame(data=d, index=[0, 1, 2, 3])\n",
      "   col1  col2\n",
      "0     0   NaN\n",
      "1     1   NaN\n",
      "2     2   2.0\n",
      "3     3   3.0\n",
      "\n",
      "Constructing DataFrame from numpy ndarray:\n",
      "\n",
      ">>> df2 = pd.DataFrame(np.array([[1, 2, 3], [4, 5, 6], [7, 8, 9]]),\n",
      "...                    columns=['a', 'b', 'c'])\n",
      ">>> df2\n",
      "   a  b  c\n",
      "0  1  2  3\n",
      "1  4  5  6\n",
      "2  7  8  9\n",
      "\n",
      "Constructing DataFrame from a numpy ndarray that has labeled columns:\n",
      "\n",
      ">>> data = np.array([(1, 2, 3), (4, 5, 6), (7, 8, 9)],\n",
      "...                 dtype=[(\"a\", \"i4\"), (\"b\", \"i4\"), (\"c\", \"i4\")])\n",
      ">>> df3 = pd.DataFrame(data, columns=['c', 'a'])\n",
      "...\n",
      ">>> df3\n",
      "   c  a\n",
      "0  3  1\n",
      "1  6  4\n",
      "2  9  7\n",
      "\n",
      "Constructing DataFrame from dataclass:\n",
      "\n",
      ">>> from dataclasses import make_dataclass\n",
      ">>> Point = make_dataclass(\"Point\", [(\"x\", int), (\"y\", int)])\n",
      ">>> pd.DataFrame([Point(0, 0), Point(0, 3), Point(2, 3)])\n",
      "   x  y\n",
      "0  0  0\n",
      "1  0  3\n",
      "2  2  3\n",
      "\n",
      "Constructing DataFrame from Series/DataFrame:\n",
      "\n",
      ">>> ser = pd.Series([1, 2, 3], index=[\"a\", \"b\", \"c\"])\n",
      ">>> df = pd.DataFrame(data=ser, index=[\"a\", \"c\"])\n",
      ">>> df\n",
      "   0\n",
      "a  1\n",
      "c  3\n",
      "\n",
      ">>> df1 = pd.DataFrame([1, 2, 3], index=[\"a\", \"b\", \"c\"], columns=[\"x\"])\n",
      ">>> df2 = pd.DataFrame(data=df1, index=[\"a\", \"c\"])\n",
      ">>> df2\n",
      "   x\n",
      "a  1\n",
      "c  3\n",
      "\u001b[0;31mFile:\u001b[0m           ~/anaconda3/envs/py12/lib/python3.12/site-packages/pandas/core/frame.py\n",
      "\u001b[0;31mType:\u001b[0m           type\n",
      "\u001b[0;31mSubclasses:\u001b[0m     SubclassedDataFrame"
     ]
    }
   ],
   "source": [
    "pd.DataFrame?"
   ]
  },
  {
   "cell_type": "code",
   "execution_count": 45,
   "id": "66dc9e5a",
   "metadata": {},
   "outputs": [],
   "source": [
    "#detecting gaps in Date field: there are 15 days missing\n",
    "history3.sort_values('Date', inplace=True)\n",
    "sum(history3['Date'].diff()[1:] > timedelta(days=1))\n",
    "history3['Date'].diff()[1:] > timedelta(days=1)\n",
    "\n",
    "rel_df = history3.loc[1:,cols_keep]\n",
    "rel_df = rel_df.assign(date_diff = history3['Date'].diff()[1:])\n",
    "#history3['Date'].diff()[1:]])"
   ]
  },
  {
   "cell_type": "code",
   "execution_count": 46,
   "id": "c0b63e49",
   "metadata": {},
   "outputs": [
    {
     "data": {
      "text/html": [
       "<div>\n",
       "<style scoped>\n",
       "    .dataframe tbody tr th:only-of-type {\n",
       "        vertical-align: middle;\n",
       "    }\n",
       "\n",
       "    .dataframe tbody tr th {\n",
       "        vertical-align: top;\n",
       "    }\n",
       "\n",
       "    .dataframe thead th {\n",
       "        text-align: right;\n",
       "    }\n",
       "</style>\n",
       "<table border=\"1\" class=\"dataframe\">\n",
       "  <thead>\n",
       "    <tr style=\"text-align: right;\">\n",
       "      <th></th>\n",
       "      <th>Date</th>\n",
       "      <th>Discount</th>\n",
       "      <th>Net_Sales</th>\n",
       "      <th>Total_Payments</th>\n",
       "      <th>date_diff</th>\n",
       "    </tr>\n",
       "  </thead>\n",
       "  <tbody>\n",
       "    <tr>\n",
       "      <th>8</th>\n",
       "      <td>2023-06-26</td>\n",
       "      <td>41.82</td>\n",
       "      <td>2240.40</td>\n",
       "      <td>2261.49</td>\n",
       "      <td>8 days</td>\n",
       "    </tr>\n",
       "    <tr>\n",
       "      <th>40</th>\n",
       "      <td>2023-07-31</td>\n",
       "      <td>117.17</td>\n",
       "      <td>2256.45</td>\n",
       "      <td>2272.82</td>\n",
       "      <td>8 days</td>\n",
       "    </tr>\n",
       "  </tbody>\n",
       "</table>\n",
       "</div>"
      ],
      "text/plain": [
       "         Date  Discount  Net_Sales  Total_Payments date_diff\n",
       "8  2023-06-26     41.82    2240.40         2261.49    8 days\n",
       "40 2023-07-31    117.17    2256.45         2272.82    8 days"
      ]
     },
     "execution_count": 46,
     "metadata": {},
     "output_type": "execute_result"
    }
   ],
   "source": [
    "rel_df.loc[rel_df['date_diff'] > timedelta(days = 1)]"
   ]
  },
  {
   "cell_type": "code",
   "execution_count": null,
   "id": "13b26dbe-ef89-4719-83a7-08b26d58fc1d",
   "metadata": {},
   "outputs": [
    {
     "ename": "KeyError",
     "evalue": "Index(['Time_From'], dtype='object')",
     "output_type": "error",
     "traceback": [
      "\u001b[0;31m---------------------------------------------------------------------------\u001b[0m",
      "\u001b[0;31mKeyError\u001b[0m                                  Traceback (most recent call last)",
      "\u001b[0;32m/tmp/ipykernel_58052/3395652685.py\u001b[0m in \u001b[0;36m?\u001b[0;34m()\u001b[0m\n\u001b[1;32m      1\u001b[0m \u001b[0;31m#remove all records that have $0 gross sales\u001b[0m\u001b[0;34m\u001b[0m\u001b[0;34m\u001b[0m\u001b[0m\n\u001b[1;32m      2\u001b[0m \u001b[0;31m#history2 = history2.loc[history2['Gross_Sales']>0,:]\u001b[0m\u001b[0;34m\u001b[0m\u001b[0;34m\u001b[0m\u001b[0m\n\u001b[0;32m----> 3\u001b[0;31m \u001b[0mhistory2\u001b[0m \u001b[0;34m=\u001b[0m \u001b[0mhistory\u001b[0m\u001b[0;34m.\u001b[0m\u001b[0mdrop_duplicates\u001b[0m\u001b[0;34m(\u001b[0m\u001b[0msubset\u001b[0m \u001b[0;34m=\u001b[0m \u001b[0;34m'Time_From'\u001b[0m \u001b[0;34m,\u001b[0m \u001b[0mkeep\u001b[0m \u001b[0;34m=\u001b[0m\u001b[0;34m'first'\u001b[0m\u001b[0;34m)\u001b[0m\u001b[0;34m\u001b[0m\u001b[0;34m\u001b[0m\u001b[0m\n\u001b[0m\u001b[1;32m      4\u001b[0m \u001b[0;31m#remove all duplicate rows\u001b[0m\u001b[0;34m\u001b[0m\u001b[0;34m\u001b[0m\u001b[0m\n\u001b[1;32m      5\u001b[0m \u001b[0mhistory2\u001b[0m \u001b[0;34m=\u001b[0m \u001b[0mhistory2\u001b[0m\u001b[0;34m.\u001b[0m\u001b[0mdropna\u001b[0m\u001b[0;34m(\u001b[0m\u001b[0msubset\u001b[0m \u001b[0;34m=\u001b[0m \u001b[0;34m[\u001b[0m\u001b[0;34m'Time_From'\u001b[0m\u001b[0;34m]\u001b[0m\u001b[0;34m,\u001b[0m \u001b[0maxis\u001b[0m \u001b[0;34m=\u001b[0m \u001b[0;36m0\u001b[0m\u001b[0;34m)\u001b[0m\u001b[0;34m\u001b[0m\u001b[0;34m\u001b[0m\u001b[0m\n\u001b[1;32m      6\u001b[0m \u001b[0mhistory2\u001b[0m\u001b[0;34m.\u001b[0m\u001b[0mshape\u001b[0m\u001b[0;34m\u001b[0m\u001b[0;34m\u001b[0m\u001b[0m\n",
      "\u001b[0;32m~/anaconda3/envs/py12/lib/python3.12/site-packages/pandas/core/frame.py\u001b[0m in \u001b[0;36m?\u001b[0;34m(self, subset, keep, inplace, ignore_index)\u001b[0m\n\u001b[1;32m   6814\u001b[0m \u001b[0;34m\u001b[0m\u001b[0m\n\u001b[1;32m   6815\u001b[0m         \u001b[0minplace\u001b[0m \u001b[0;34m=\u001b[0m \u001b[0mvalidate_bool_kwarg\u001b[0m\u001b[0;34m(\u001b[0m\u001b[0minplace\u001b[0m\u001b[0;34m,\u001b[0m \u001b[0;34m\"inplace\"\u001b[0m\u001b[0;34m)\u001b[0m\u001b[0;34m\u001b[0m\u001b[0;34m\u001b[0m\u001b[0m\n\u001b[1;32m   6816\u001b[0m         \u001b[0mignore_index\u001b[0m \u001b[0;34m=\u001b[0m \u001b[0mvalidate_bool_kwarg\u001b[0m\u001b[0;34m(\u001b[0m\u001b[0mignore_index\u001b[0m\u001b[0;34m,\u001b[0m \u001b[0;34m\"ignore_index\"\u001b[0m\u001b[0;34m)\u001b[0m\u001b[0;34m\u001b[0m\u001b[0;34m\u001b[0m\u001b[0m\n\u001b[1;32m   6817\u001b[0m \u001b[0;34m\u001b[0m\u001b[0m\n\u001b[0;32m-> 6818\u001b[0;31m         \u001b[0mresult\u001b[0m \u001b[0;34m=\u001b[0m \u001b[0mself\u001b[0m\u001b[0;34m[\u001b[0m\u001b[0;34m-\u001b[0m\u001b[0mself\u001b[0m\u001b[0;34m.\u001b[0m\u001b[0mduplicated\u001b[0m\u001b[0;34m(\u001b[0m\u001b[0msubset\u001b[0m\u001b[0;34m,\u001b[0m \u001b[0mkeep\u001b[0m\u001b[0;34m=\u001b[0m\u001b[0mkeep\u001b[0m\u001b[0;34m)\u001b[0m\u001b[0;34m]\u001b[0m\u001b[0;34m\u001b[0m\u001b[0;34m\u001b[0m\u001b[0m\n\u001b[0m\u001b[1;32m   6819\u001b[0m         \u001b[0;32mif\u001b[0m \u001b[0mignore_index\u001b[0m\u001b[0;34m:\u001b[0m\u001b[0;34m\u001b[0m\u001b[0;34m\u001b[0m\u001b[0m\n\u001b[1;32m   6820\u001b[0m             \u001b[0mresult\u001b[0m\u001b[0;34m.\u001b[0m\u001b[0mindex\u001b[0m \u001b[0;34m=\u001b[0m \u001b[0mdefault_index\u001b[0m\u001b[0;34m(\u001b[0m\u001b[0mlen\u001b[0m\u001b[0;34m(\u001b[0m\u001b[0mresult\u001b[0m\u001b[0;34m)\u001b[0m\u001b[0;34m)\u001b[0m\u001b[0;34m\u001b[0m\u001b[0;34m\u001b[0m\u001b[0m\n\u001b[1;32m   6821\u001b[0m \u001b[0;34m\u001b[0m\u001b[0m\n",
      "\u001b[0;32m~/anaconda3/envs/py12/lib/python3.12/site-packages/pandas/core/frame.py\u001b[0m in \u001b[0;36m?\u001b[0;34m(self, subset, keep)\u001b[0m\n\u001b[1;32m   6946\u001b[0m         \u001b[0;31m# Otherwise, raise a KeyError, same as if you try to __getitem__ with a\u001b[0m\u001b[0;34m\u001b[0m\u001b[0;34m\u001b[0m\u001b[0m\n\u001b[1;32m   6947\u001b[0m         \u001b[0;31m# key that doesn't exist.\u001b[0m\u001b[0;34m\u001b[0m\u001b[0;34m\u001b[0m\u001b[0m\n\u001b[1;32m   6948\u001b[0m         \u001b[0mdiff\u001b[0m \u001b[0;34m=\u001b[0m \u001b[0mset\u001b[0m\u001b[0;34m(\u001b[0m\u001b[0msubset\u001b[0m\u001b[0;34m)\u001b[0m \u001b[0;34m-\u001b[0m \u001b[0mset\u001b[0m\u001b[0;34m(\u001b[0m\u001b[0mself\u001b[0m\u001b[0;34m.\u001b[0m\u001b[0mcolumns\u001b[0m\u001b[0;34m)\u001b[0m\u001b[0;34m\u001b[0m\u001b[0;34m\u001b[0m\u001b[0m\n\u001b[1;32m   6949\u001b[0m         \u001b[0;32mif\u001b[0m \u001b[0mdiff\u001b[0m\u001b[0;34m:\u001b[0m\u001b[0;34m\u001b[0m\u001b[0;34m\u001b[0m\u001b[0m\n\u001b[0;32m-> 6950\u001b[0;31m             \u001b[0;32mraise\u001b[0m \u001b[0mKeyError\u001b[0m\u001b[0;34m(\u001b[0m\u001b[0mIndex\u001b[0m\u001b[0;34m(\u001b[0m\u001b[0mdiff\u001b[0m\u001b[0;34m)\u001b[0m\u001b[0;34m)\u001b[0m\u001b[0;34m\u001b[0m\u001b[0;34m\u001b[0m\u001b[0m\n\u001b[0m\u001b[1;32m   6951\u001b[0m \u001b[0;34m\u001b[0m\u001b[0m\n\u001b[1;32m   6952\u001b[0m         \u001b[0;32mif\u001b[0m \u001b[0mlen\u001b[0m\u001b[0;34m(\u001b[0m\u001b[0msubset\u001b[0m\u001b[0;34m)\u001b[0m \u001b[0;34m==\u001b[0m \u001b[0;36m1\u001b[0m \u001b[0;32mand\u001b[0m \u001b[0mself\u001b[0m\u001b[0;34m.\u001b[0m\u001b[0mcolumns\u001b[0m\u001b[0;34m.\u001b[0m\u001b[0mis_unique\u001b[0m\u001b[0;34m:\u001b[0m\u001b[0;34m\u001b[0m\u001b[0;34m\u001b[0m\u001b[0m\n\u001b[1;32m   6953\u001b[0m             \u001b[0;31m# GH#45236 This is faster than get_group_index below\u001b[0m\u001b[0;34m\u001b[0m\u001b[0;34m\u001b[0m\u001b[0m\n",
      "\u001b[0;31mKeyError\u001b[0m: Index(['Time_From'], dtype='object')"
     ]
    }
   ],
   "source": [
    "#sort the DataFrame such that the value I want to keep for cases of dupes is first, so I can readily select for it using drop_duplicates later\n",
    "\n",
    "#remove all records that have $0 gross sales\n",
    "#history2 = history2.loc[history2['Gross_Sales']>0,:]\n",
    "history2 = history.drop_duplicates(subset = 'Time_From' , keep ='first')\n",
    "#remove all duplicate rows\n",
    "history2 = history2.dropna(subset = ['Time_From'], axis = 0)\n",
    "history2.shape"
   ]
  },
  {
   "cell_type": "code",
   "execution_count": 34,
   "id": "2aade4f7-08ce-4aa3-975e-bbd42332fddd",
   "metadata": {},
   "outputs": [],
   "source": [
    "#keep only those columns whose rows' totals > 0\n",
    "jk2 = history2.select_dtypes('float64').apply('sum')"
   ]
  },
  {
   "cell_type": "code",
   "execution_count": 35,
   "id": "16893f6d-3a5d-43ea-a6c2-16a922d5a2ec",
   "metadata": {},
   "outputs": [],
   "source": [
    "#rebuild the dataframe\n",
    "concat2 = pd.concat([\n",
    "    history2.select_dtypes(exclude = 'float64'),\n",
    "    history2.loc[:,list(jk2[jk2.apply(lambda x: x>0)].index)]],axis = 1)"
   ]
  },
  {
   "cell_type": "code",
   "execution_count": 36,
   "id": "476034bc-cef4-4842-869e-76562a2eaf11",
   "metadata": {},
   "outputs": [],
   "source": [
    "#remove problematic rows: where 'Total' appears\n",
    "concat2 = concat2.loc[concat2['Time_To']!='Total',:]"
   ]
  },
  {
   "cell_type": "code",
   "execution_count": 37,
   "id": "28fb2a26-e69b-4f08-95f0-f885e4715b4e",
   "metadata": {},
   "outputs": [],
   "source": [
    "#make new datetime cols (note that these object INCLUDE a time component)\n",
    "concat2 = concat2.assign(Time_From_dt = pd.to_datetime(concat2['Time_From'],format = '%m/%d/%Y %H:%M %p'),Time_To_dt = pd.to_datetime(concat2['Time_To'],format = '%m/%d/%Y %H:%M %p'))"
   ]
  },
  {
   "cell_type": "code",
   "execution_count": 38,
   "id": "95b21fa2-3b64-4c40-994c-b8be8ec95a79",
   "metadata": {},
   "outputs": [],
   "source": [
    "#add a week and year to serve as groupby fields//Gregorian weeks according to ISO 8601\n",
    "concat2 = concat2.assign(week_no = concat2['Time_From_dt'].dt.isocalendar().week, yr_no = concat2['Time_From_dt'].dt.isocalendar().year)"
   ]
  },
  {
   "cell_type": "code",
   "execution_count": 77,
   "id": "9b8f93b2-e9f0-4d1a-a2d1-c63f45a6fcca",
   "metadata": {},
   "outputs": [
    {
     "data": {
      "text/html": [
       "<div>\n",
       "<style scoped>\n",
       "    .dataframe tbody tr th:only-of-type {\n",
       "        vertical-align: middle;\n",
       "    }\n",
       "\n",
       "    .dataframe tbody tr th {\n",
       "        vertical-align: top;\n",
       "    }\n",
       "\n",
       "    .dataframe thead th {\n",
       "        text-align: right;\n",
       "    }\n",
       "</style>\n",
       "<table border=\"1\" class=\"dataframe\">\n",
       "  <thead>\n",
       "    <tr style=\"text-align: right;\">\n",
       "      <th></th>\n",
       "      <th>Time_From</th>\n",
       "      <th>yr_no</th>\n",
       "      <th>week_no</th>\n",
       "    </tr>\n",
       "  </thead>\n",
       "  <tbody>\n",
       "    <tr>\n",
       "      <th>366</th>\n",
       "      <td>01/02/2023 03:00 AM</td>\n",
       "      <td>2023</td>\n",
       "      <td>1</td>\n",
       "    </tr>\n",
       "    <tr>\n",
       "      <th>367</th>\n",
       "      <td>01/03/2023 03:00 AM</td>\n",
       "      <td>2023</td>\n",
       "      <td>1</td>\n",
       "    </tr>\n",
       "    <tr>\n",
       "      <th>368</th>\n",
       "      <td>01/04/2023 03:00 AM</td>\n",
       "      <td>2023</td>\n",
       "      <td>1</td>\n",
       "    </tr>\n",
       "    <tr>\n",
       "      <th>369</th>\n",
       "      <td>01/05/2023 03:00 AM</td>\n",
       "      <td>2023</td>\n",
       "      <td>1</td>\n",
       "    </tr>\n",
       "    <tr>\n",
       "      <th>370</th>\n",
       "      <td>01/06/2023 03:00 AM</td>\n",
       "      <td>2023</td>\n",
       "      <td>1</td>\n",
       "    </tr>\n",
       "    <tr>\n",
       "      <th>371</th>\n",
       "      <td>01/07/2023 03:00 AM</td>\n",
       "      <td>2023</td>\n",
       "      <td>1</td>\n",
       "    </tr>\n",
       "    <tr>\n",
       "      <th>372</th>\n",
       "      <td>01/08/2023 03:00 AM</td>\n",
       "      <td>2023</td>\n",
       "      <td>1</td>\n",
       "    </tr>\n",
       "    <tr>\n",
       "      <th>373</th>\n",
       "      <td>01/09/2023 03:00 AM</td>\n",
       "      <td>2023</td>\n",
       "      <td>2</td>\n",
       "    </tr>\n",
       "    <tr>\n",
       "      <th>374</th>\n",
       "      <td>01/10/2023 03:00 AM</td>\n",
       "      <td>2023</td>\n",
       "      <td>2</td>\n",
       "    </tr>\n",
       "    <tr>\n",
       "      <th>375</th>\n",
       "      <td>01/11/2023 03:00 AM</td>\n",
       "      <td>2023</td>\n",
       "      <td>2</td>\n",
       "    </tr>\n",
       "    <tr>\n",
       "      <th>376</th>\n",
       "      <td>01/12/2023 03:00 AM</td>\n",
       "      <td>2023</td>\n",
       "      <td>2</td>\n",
       "    </tr>\n",
       "    <tr>\n",
       "      <th>377</th>\n",
       "      <td>01/13/2023 03:00 AM</td>\n",
       "      <td>2023</td>\n",
       "      <td>2</td>\n",
       "    </tr>\n",
       "    <tr>\n",
       "      <th>378</th>\n",
       "      <td>01/14/2023 03:00 AM</td>\n",
       "      <td>2023</td>\n",
       "      <td>2</td>\n",
       "    </tr>\n",
       "    <tr>\n",
       "      <th>379</th>\n",
       "      <td>01/15/2023 03:00 AM</td>\n",
       "      <td>2023</td>\n",
       "      <td>2</td>\n",
       "    </tr>\n",
       "  </tbody>\n",
       "</table>\n",
       "</div>"
      ],
      "text/plain": [
       "               Time_From  yr_no  week_no\n",
       "366  01/02/2023 03:00 AM   2023        1\n",
       "367  01/03/2023 03:00 AM   2023        1\n",
       "368  01/04/2023 03:00 AM   2023        1\n",
       "369  01/05/2023 03:00 AM   2023        1\n",
       "370  01/06/2023 03:00 AM   2023        1\n",
       "371  01/07/2023 03:00 AM   2023        1\n",
       "372  01/08/2023 03:00 AM   2023        1\n",
       "373  01/09/2023 03:00 AM   2023        2\n",
       "374  01/10/2023 03:00 AM   2023        2\n",
       "375  01/11/2023 03:00 AM   2023        2\n",
       "376  01/12/2023 03:00 AM   2023        2\n",
       "377  01/13/2023 03:00 AM   2023        2\n",
       "378  01/14/2023 03:00 AM   2023        2\n",
       "379  01/15/2023 03:00 AM   2023        2"
      ]
     },
     "execution_count": 77,
     "metadata": {},
     "output_type": "execute_result"
    }
   ],
   "source": [
    "#another method to calc week from date, as isocalendar is funky\n",
    "concat2.loc[concat2['yr_no']==2023,['Time_From','yr_no','week_no']]"
   ]
  },
  {
   "cell_type": "code",
   "execution_count": 17,
   "id": "11170378-9151-4745-a4e6-b72f03d3605e",
   "metadata": {},
   "outputs": [],
   "source": [
    "concat2.to_csv('./check_dates.csv',index=False)"
   ]
  },
  {
   "cell_type": "code",
   "execution_count": 18,
   "id": "d4130726-8faa-4732-b7b5-0852ca9f638c",
   "metadata": {},
   "outputs": [
    {
     "data": {
      "text/plain": [
       "'C:\\\\Users\\\\200669681\\\\OneDrive - NBCUniversal\\\\My Documents\\\\ghfc\\\\salesAnalysis'"
      ]
     },
     "execution_count": 18,
     "metadata": {},
     "output_type": "execute_result"
    }
   ],
   "source": [
    "os.getcwd()"
   ]
  },
  {
   "cell_type": "code",
   "execution_count": 39,
   "id": "340e2d9a-cb5a-44ca-8921-0dd49afe56c3",
   "metadata": {},
   "outputs": [
    {
     "name": "stderr",
     "output_type": "stream",
     "text": [
      "C:\\TEMP\\ipykernel_6560\\2592425039.py:3: FutureWarning: Indexing with multiple keys (implicitly converted to a tuple of keys) will be deprecated, use a list instead.\n",
      "  test2 = concat2.groupby(['week_no','yr_no'])['Gross_Sales','Net_Sales', 'Total_Discounts'].sum()\n"
     ]
    }
   ],
   "source": [
    "#group by week\n",
    "#calculate sum of values, grouped by week\n",
    "test2 = concat2.groupby(['week_no','yr_no'])['Gross_Sales','Net_Sales', 'Total_Discounts'].sum()"
   ]
  },
  {
   "cell_type": "code",
   "execution_count": 40,
   "id": "875acace-1fbb-437c-b1e5-0fb15c7bef9f",
   "metadata": {},
   "outputs": [],
   "source": [
    "test3 = pd.concat([test2,concat2.groupby(['week_no','yr_no'])['Gross_Sales'].count()], axis = 1)"
   ]
  },
  {
   "cell_type": "code",
   "execution_count": null,
   "id": "78a774ca-8b4b-4e20-a06f-600c704994b1",
   "metadata": {},
   "outputs": [],
   "source": [
    "#grouping instead in 7 day intervals\n",
    "#print(\"\\nGroup Dataframe by 7 days...\\n\",dataFrame.groupby(pd.Grouper(key='Date_of_Purchase', axis=0, freq='7D')).sum()"
   ]
  },
  {
   "cell_type": "code",
   "execution_count": 41,
   "id": "1127a57f-90de-4d1c-b7a6-9a60594079c3",
   "metadata": {},
   "outputs": [],
   "source": [
    "#reset the index to place the date as a col\n",
    "test4 = test3.reset_index()"
   ]
  },
  {
   "cell_type": "code",
   "execution_count": 42,
   "id": "efd37377-2fad-4477-805b-c3e1f4e768a2",
   "metadata": {},
   "outputs": [],
   "source": [
    "test4.columns = ['week_no','yr_no','Gross_Sales', 'Net_Sales', 'Total_Discounts','obs_cnt']"
   ]
  },
  {
   "cell_type": "code",
   "execution_count": 43,
   "id": "4f5c5524-4541-402e-8630-7da42e5b44eb",
   "metadata": {},
   "outputs": [
    {
     "data": {
      "text/html": [
       "<div>\n",
       "<style scoped>\n",
       "    .dataframe tbody tr th:only-of-type {\n",
       "        vertical-align: middle;\n",
       "    }\n",
       "\n",
       "    .dataframe tbody tr th {\n",
       "        vertical-align: top;\n",
       "    }\n",
       "\n",
       "    .dataframe thead th {\n",
       "        text-align: right;\n",
       "    }\n",
       "</style>\n",
       "<table border=\"1\" class=\"dataframe\">\n",
       "  <thead>\n",
       "    <tr style=\"text-align: right;\">\n",
       "      <th></th>\n",
       "      <th>week_no</th>\n",
       "      <th>yr_no</th>\n",
       "      <th>Gross_Sales</th>\n",
       "      <th>Net_Sales</th>\n",
       "      <th>Total_Discounts</th>\n",
       "      <th>obs_cnt</th>\n",
       "    </tr>\n",
       "  </thead>\n",
       "  <tbody>\n",
       "    <tr>\n",
       "      <th>106</th>\n",
       "      <td>53</td>\n",
       "      <td>2020</td>\n",
       "      <td>7663.36</td>\n",
       "      <td>7317.46</td>\n",
       "      <td>345.9</td>\n",
       "      <td>3</td>\n",
       "    </tr>\n",
       "  </tbody>\n",
       "</table>\n",
       "</div>"
      ],
      "text/plain": [
       "     week_no  yr_no  Gross_Sales  Net_Sales  Total_Discounts  obs_cnt\n",
       "106       53   2020      7663.36    7317.46            345.9        3"
      ]
     },
     "execution_count": 43,
     "metadata": {},
     "output_type": "execute_result"
    }
   ],
   "source": [
    "#QA: inspect those weekss having <> 7 records\n",
    "test4.loc[test4['obs_cnt'] != 7,]\n",
    "\n",
    "#QA the weeks that aren't 7 days long... OK to remove these\n",
    "#concat2.loc[(concat2['week_no'] == 1) & (concat2['yr_no']==2021),]"
   ]
  },
  {
   "cell_type": "code",
   "execution_count": 68,
   "id": "2cf6853e-2271-4abe-9b25-48f87a44319c",
   "metadata": {},
   "outputs": [],
   "source": [
    "#remove problematic weeks\n",
    "#test4.loc[(test4['week_no']==52) & (test4['yr_no']==2021),]\n",
    "#look at these values in the raw dataset\n",
    "# week 53 actually spans into the beginning of 2021 - it's the tail end (53rd week) of 2020\n",
    "#concat2.loc[(concat2['week_no'] == 53) & (concat2['yr_no']==2021),]\n",
    "#concat2.loc[concat2['week_no'].isin([1,52,53]),['Time_From','yr_no','week_no']]"
   ]
  },
  {
   "cell_type": "markdown",
   "id": "486b5df0-77fd-40be-a4a1-d763b86655ab",
   "metadata": {},
   "source": [
    "## Insert graphics here using test5: preferably separate lines for each year on the same axis"
   ]
  },
  {
   "cell_type": "code",
   "execution_count": 44,
   "id": "30193c08-cab5-43ca-8ee0-d04ff4f0d6d3",
   "metadata": {},
   "outputs": [
    {
     "data": {
      "text/html": [
       "<div>\n",
       "<style scoped>\n",
       "    .dataframe tbody tr th:only-of-type {\n",
       "        vertical-align: middle;\n",
       "    }\n",
       "\n",
       "    .dataframe tbody tr th {\n",
       "        vertical-align: top;\n",
       "    }\n",
       "\n",
       "    .dataframe thead th {\n",
       "        text-align: right;\n",
       "    }\n",
       "</style>\n",
       "<table border=\"1\" class=\"dataframe\">\n",
       "  <thead>\n",
       "    <tr style=\"text-align: right;\">\n",
       "      <th></th>\n",
       "      <th>week_no</th>\n",
       "      <th>yr_no</th>\n",
       "      <th>Gross_Sales</th>\n",
       "      <th>Net_Sales</th>\n",
       "      <th>Total_Discounts</th>\n",
       "      <th>obs_cnt</th>\n",
       "    </tr>\n",
       "  </thead>\n",
       "  <tbody>\n",
       "    <tr>\n",
       "      <th>2</th>\n",
       "      <td>1</td>\n",
       "      <td>2023</td>\n",
       "      <td>22924.12</td>\n",
       "      <td>21561.63</td>\n",
       "      <td>1362.49</td>\n",
       "      <td>7</td>\n",
       "    </tr>\n",
       "    <tr>\n",
       "      <th>5</th>\n",
       "      <td>2</td>\n",
       "      <td>2023</td>\n",
       "      <td>20642.90</td>\n",
       "      <td>20005.68</td>\n",
       "      <td>637.22</td>\n",
       "      <td>7</td>\n",
       "    </tr>\n",
       "  </tbody>\n",
       "</table>\n",
       "</div>"
      ],
      "text/plain": [
       "   week_no  yr_no  Gross_Sales  Net_Sales  Total_Discounts  obs_cnt\n",
       "2        1   2023     22924.12   21561.63          1362.49        7\n",
       "5        2   2023     20642.90   20005.68           637.22        7"
      ]
     },
     "execution_count": 44,
     "metadata": {},
     "output_type": "execute_result"
    }
   ],
   "source": [
    "test4.loc[test4['yr_no'] == 2023,]"
   ]
  },
  {
   "cell_type": "code",
   "execution_count": 61,
   "id": "ae11e29e-bee5-4d3f-a5f1-dda234cea5ea",
   "metadata": {},
   "outputs": [],
   "source": [
    "#create a string\n",
    "test5 = test4.assign(calnder_day = test4.apply(lambda x: date.fromisocalendar(int(x['yr_no']),int(x['week_no']),1),axis = 1))"
   ]
  },
  {
   "cell_type": "code",
   "execution_count": 62,
   "id": "5fc9feca-077b-4225-a29b-0e26f541186e",
   "metadata": {},
   "outputs": [],
   "source": [
    "test5 = test5.assign(net_sales_ma = test5.sort_values(by = ['yr_no','week_no'])['Net_Sales'].rolling(4).mean())"
   ]
  },
  {
   "cell_type": "code",
   "execution_count": 63,
   "id": "632ac394-6e6e-4058-8cc7-b5225823af7e",
   "metadata": {},
   "outputs": [
    {
     "data": {
      "text/html": [
       "<div>\n",
       "<style scoped>\n",
       "    .dataframe tbody tr th:only-of-type {\n",
       "        vertical-align: middle;\n",
       "    }\n",
       "\n",
       "    .dataframe tbody tr th {\n",
       "        vertical-align: top;\n",
       "    }\n",
       "\n",
       "    .dataframe thead th {\n",
       "        text-align: right;\n",
       "    }\n",
       "</style>\n",
       "<table border=\"1\" class=\"dataframe\">\n",
       "  <thead>\n",
       "    <tr style=\"text-align: right;\">\n",
       "      <th></th>\n",
       "      <th>week_no</th>\n",
       "      <th>yr_no</th>\n",
       "      <th>Gross_Sales</th>\n",
       "      <th>Net_Sales</th>\n",
       "      <th>Total_Discounts</th>\n",
       "      <th>obs_cnt</th>\n",
       "      <th>calnder_day</th>\n",
       "      <th>net_sales_ma</th>\n",
       "    </tr>\n",
       "  </thead>\n",
       "  <tbody>\n",
       "    <tr>\n",
       "      <th>95</th>\n",
       "      <td>47</td>\n",
       "      <td>2022</td>\n",
       "      <td>17770.72</td>\n",
       "      <td>16798.68</td>\n",
       "      <td>972.04</td>\n",
       "      <td>7</td>\n",
       "      <td>2022-11-21</td>\n",
       "      <td>19856.9250</td>\n",
       "    </tr>\n",
       "    <tr>\n",
       "      <th>97</th>\n",
       "      <td>48</td>\n",
       "      <td>2022</td>\n",
       "      <td>20581.74</td>\n",
       "      <td>19607.94</td>\n",
       "      <td>973.80</td>\n",
       "      <td>7</td>\n",
       "      <td>2022-11-28</td>\n",
       "      <td>19497.9825</td>\n",
       "    </tr>\n",
       "    <tr>\n",
       "      <th>99</th>\n",
       "      <td>49</td>\n",
       "      <td>2022</td>\n",
       "      <td>18759.40</td>\n",
       "      <td>18278.18</td>\n",
       "      <td>481.22</td>\n",
       "      <td>7</td>\n",
       "      <td>2022-12-05</td>\n",
       "      <td>19288.8875</td>\n",
       "    </tr>\n",
       "    <tr>\n",
       "      <th>101</th>\n",
       "      <td>50</td>\n",
       "      <td>2022</td>\n",
       "      <td>17487.32</td>\n",
       "      <td>16477.88</td>\n",
       "      <td>1009.44</td>\n",
       "      <td>7</td>\n",
       "      <td>2022-12-12</td>\n",
       "      <td>17790.6700</td>\n",
       "    </tr>\n",
       "    <tr>\n",
       "      <th>103</th>\n",
       "      <td>51</td>\n",
       "      <td>2022</td>\n",
       "      <td>12028.11</td>\n",
       "      <td>11295.78</td>\n",
       "      <td>732.33</td>\n",
       "      <td>7</td>\n",
       "      <td>2022-12-19</td>\n",
       "      <td>16414.9450</td>\n",
       "    </tr>\n",
       "    <tr>\n",
       "      <th>105</th>\n",
       "      <td>52</td>\n",
       "      <td>2022</td>\n",
       "      <td>13914.63</td>\n",
       "      <td>12288.92</td>\n",
       "      <td>1625.71</td>\n",
       "      <td>7</td>\n",
       "      <td>2022-12-26</td>\n",
       "      <td>14585.1900</td>\n",
       "    </tr>\n",
       "    <tr>\n",
       "      <th>2</th>\n",
       "      <td>1</td>\n",
       "      <td>2023</td>\n",
       "      <td>22924.12</td>\n",
       "      <td>21561.63</td>\n",
       "      <td>1362.49</td>\n",
       "      <td>7</td>\n",
       "      <td>2023-01-02</td>\n",
       "      <td>15406.0525</td>\n",
       "    </tr>\n",
       "    <tr>\n",
       "      <th>5</th>\n",
       "      <td>2</td>\n",
       "      <td>2023</td>\n",
       "      <td>20642.90</td>\n",
       "      <td>20005.68</td>\n",
       "      <td>637.22</td>\n",
       "      <td>7</td>\n",
       "      <td>2023-01-09</td>\n",
       "      <td>16288.0025</td>\n",
       "    </tr>\n",
       "  </tbody>\n",
       "</table>\n",
       "</div>"
      ],
      "text/plain": [
       "     week_no  yr_no  Gross_Sales  Net_Sales  Total_Discounts  obs_cnt  \\\n",
       "95        47   2022     17770.72   16798.68           972.04        7   \n",
       "97        48   2022     20581.74   19607.94           973.80        7   \n",
       "99        49   2022     18759.40   18278.18           481.22        7   \n",
       "101       50   2022     17487.32   16477.88          1009.44        7   \n",
       "103       51   2022     12028.11   11295.78           732.33        7   \n",
       "105       52   2022     13914.63   12288.92          1625.71        7   \n",
       "2          1   2023     22924.12   21561.63          1362.49        7   \n",
       "5          2   2023     20642.90   20005.68           637.22        7   \n",
       "\n",
       "    calnder_day  net_sales_ma  \n",
       "95   2022-11-21    19856.9250  \n",
       "97   2022-11-28    19497.9825  \n",
       "99   2022-12-05    19288.8875  \n",
       "101  2022-12-12    17790.6700  \n",
       "103  2022-12-19    16414.9450  \n",
       "105  2022-12-26    14585.1900  \n",
       "2    2023-01-02    15406.0525  \n",
       "5    2023-01-09    16288.0025  "
      ]
     },
     "execution_count": 63,
     "metadata": {},
     "output_type": "execute_result"
    }
   ],
   "source": [
    "test5.sort_values(by = ['yr_no','week_no']).tail(8)"
   ]
  },
  {
   "cell_type": "code",
   "execution_count": 48,
   "id": "31bfc7ff-6c79-4c9b-a412-eace70d8893d",
   "metadata": {},
   "outputs": [],
   "source": [
    "#test5.sort_values(by = ['yr_no','week_no']).to_csv('./gross_sales_table.csv',index = False)"
   ]
  },
  {
   "cell_type": "code",
   "execution_count": 84,
   "id": "d485d473-5a95-4b12-a344-b0efa374b502",
   "metadata": {},
   "outputs": [
    {
     "data": {
      "image/png": "[encoded data removed]",
      "text/plain": [
       "<Figure size 720x720 with 1 Axes>"
      ]
     },
     "metadata": {
      "needs_background": "light"
     },
     "output_type": "display_data"
    }
   ],
   "source": [
    "fig,ax = plt.subplots(figsize=(10,10))\n",
    "ax.set_title('Net Sales', fontsize=15)\n",
    "ax.set_ylim([10000,30000])\n",
    "\n",
    "colors = {2020:'red',2021:'blue', 2022:'orange', 2023:'green'}\n",
    "#ax.scatter(df['population'], df['Area'], c=df['continent'].map(colors))\n",
    "\n",
    "test5.pivot_table(values=\"Net_Sales\", index=\"week_no\", columns=\"yr_no\").plot.line(ax=ax, color = ['red','blue','orange','green'])\n",
    "test5.plot.scatter(x=\"week_no\",y=\"Net_Sales\",c=test5[\"yr_no\"].map(colors),ax=ax)\n",
    "\n",
    "ax.set_ylabel('Sales $')\n",
    "ax.set_xlabel('Week Number')\n",
    "\n",
    "fig.savefig(\"foo.png\", bbox_inches='tight', dpi=600)"
   ]
  },
  {
   "cell_type": "markdown",
   "id": "5adec2cb-a324-400a-a456-969e20670301",
   "metadata": {},
   "source": [
    "Include the last date of the measurement period in the analysis"
   ]
  },
  {
   "cell_type": "code",
   "execution_count": 19,
   "id": "5261122c-40c8-4f73-abbe-66459df33d54",
   "metadata": {},
   "outputs": [
    {
     "name": "stdout",
     "output_type": "stream",
     "text": [
      "yr_no\n",
      "2021   2021-12-31 03:00:00\n",
      "2022   2022-12-31 03:00:00\n",
      "2023   2023-01-15 03:00:00\n",
      "Name: Time_From_dt, dtype: datetime64[ns]\n",
      "yr_no\n",
      "2021   2021-01-01 03:00:00\n",
      "2022   2022-01-01 03:00:00\n",
      "2023   2023-01-01 03:00:00\n",
      "Name: Time_From_dt, dtype: datetime64[ns]\n"
     ]
    }
   ],
   "source": [
    "print(concat2.groupby('yr_no')['Time_From_dt'].max())\n",
    "print(concat2.groupby('yr_no')['Time_From_dt'].min())"
   ]
  },
  {
   "cell_type": "code",
   "execution_count": 4,
   "id": "86bf0503-1994-41ac-8624-81ec2734a51e",
   "metadata": {},
   "outputs": [
    {
     "name": "stdout",
     "output_type": "stream",
     "text": [
      "(336, 179)\n"
     ]
    }
   ],
   "source": [
    "# SINLGLE DF VERSION OF THE ABOVE\n",
    "#fetch the annual sales report (day interals)\n",
    "annrep = pd.read_csv('./rawRevelExports/Sales_Summary_greene-hill-food-co-op_2022-01-01_03-00_2022-12-02_03-00.csv')\n",
    "print(annrep.shape)"
   ]
  },
  {
   "cell_type": "code",
   "execution_count": 5,
   "id": "1d7d630d-edb2-49dd-ab1d-b9ee6a4ee5c5",
   "metadata": {},
   "outputs": [],
   "source": [
    "#fix the col headers\n",
    "annrep.columns = [i.replace(' ','_') for i in annrep.columns]"
   ]
  },
  {
   "cell_type": "code",
   "execution_count": 6,
   "id": "2c14e9cd-ecef-454b-9c29-39905ef6f299",
   "metadata": {},
   "outputs": [],
   "source": [
    "#keep only those columns whose rows' totals > 0\n",
    "jk = annrep.select_dtypes('float64').apply('sum')"
   ]
  },
  {
   "cell_type": "code",
   "execution_count": 7,
   "id": "f857bb2f-6c95-4b45-ba8e-3050b95f35d3",
   "metadata": {},
   "outputs": [],
   "source": [
    "#rebuild the dataframe\n",
    "concat = pd.concat([\n",
    "    annrep.iloc[0:334,:].select_dtypes(exclude = 'float64'),\n",
    "    annrep.loc[0:334,list(jk[jk.apply(lambda x: x>0)].index)]],axis = 1)"
   ]
  },
  {
   "cell_type": "code",
   "execution_count": 8,
   "id": "5d2230a9-53b2-4f89-b16c-f6afde0a141d",
   "metadata": {},
   "outputs": [],
   "source": [
    "#make new datetime cols (note that these object INCLUDE a time component)\n",
    "concat = concat.assign(Time_From_dt = pd.to_datetime(concat['Time_From'],format = '%m/%d/%Y %H:%M %p'),Time_To_dt = pd.to_datetime(concat['Time_To'],format = '%m/%d/%Y %H:%M %p'))"
   ]
  },
  {
   "cell_type": "code",
   "execution_count": 10,
   "id": "fc7bc3f9-5c60-4e16-8f6a-78ec21289e79",
   "metadata": {},
   "outputs": [
    {
     "name": "stderr",
     "output_type": "stream",
     "text": [
      "/tmp/ipykernel_51777/1441866504.py:3: FutureWarning: Indexing with multiple keys (implicitly converted to a tuple of keys) will be deprecated, use a list instead.\n",
      "  test = concat.groupby([pd.Grouper(key='Time_From_dt', freq='W')])['Gross_Sales','Net_Sales', 'Total_Discounts'].sum()\n"
     ]
    }
   ],
   "source": [
    "#group by week\n",
    "#calculate sum of values, grouped by week\n",
    "test = concat.groupby([pd.Grouper(key='Time_From_dt', freq='W')])['Gross_Sales','Net_Sales', 'Total_Discounts'].sum()"
   ]
  },
  {
   "cell_type": "code",
   "execution_count": 20,
   "id": "e084ec8f-012b-483b-afab-bbd1d3633ad9",
   "metadata": {},
   "outputs": [],
   "source": [
    "#concatenate both the group by calcs and the group by count\n",
    "test2 = pd.concat([test,concat.groupby([pd.Grouper(key='Time_From_dt', freq='W')])['Gross_Sales'].count()], axis = 1)"
   ]
  },
  {
   "cell_type": "code",
   "execution_count": 28,
   "id": "8127f018-81f3-4e19-9c25-54edf58bba03",
   "metadata": {},
   "outputs": [],
   "source": [
    "#reset the index to place the date as a col\n",
    "test3 = test2.reset_index()"
   ]
  },
  {
   "cell_type": "code",
   "execution_count": 35,
   "id": "08090e8c-e3e2-46fa-a600-6815f8147a37",
   "metadata": {},
   "outputs": [],
   "source": [
    "test3.columns = ['Time_From_dt', 'Gross_Sales', 'Net_Sales', 'Total_Discounts','obs_cnt']"
   ]
  },
  {
   "cell_type": "code",
   "execution_count": 37,
   "id": "22c3bed9-3c2e-4393-a96b-bc41d441040c",
   "metadata": {},
   "outputs": [
    {
     "data": {
      "text/plain": [
       "7    47\n",
       "2     1\n",
       "3     1\n",
       "Name: obs_cnt, dtype: int64"
      ]
     },
     "execution_count": 37,
     "metadata": {},
     "output_type": "execute_result"
    }
   ],
   "source": [
    "#view the day distribution for ea week group\n",
    "test3['obs_cnt'].value_counts()"
   ]
  },
  {
   "cell_type": "markdown",
   "id": "30b7bef9-f6ce-4d31-aa4f-332103c4d5c0",
   "metadata": {},
   "source": [
    "## Discounts Analysis"
   ]
  },
  {
   "cell_type": "code",
   "execution_count": 54,
   "id": "7569d01c-3752-4e04-b5e5-006e3af87dd5",
   "metadata": {},
   "outputs": [
    {
     "data": {
      "text/plain": [
       "['Item_Discounts',\n",
       " 'Total_Discounts',\n",
       " 'Donation_Discount_Count',\n",
       " 'Donation_Discount_Sum']"
      ]
     },
     "execution_count": 54,
     "metadata": {},
     "output_type": "execute_result"
    }
   ],
   "source": [
    "bool_list = [re.search('discount', i.lower()) is not None for i in list(concat2.columns)]\n",
    "list(compress(list(concat2.columns),bool_list))"
   ]
  },
  {
   "cell_type": "code",
   "execution_count": 55,
   "id": "7d694c8c-fb72-46aa-9e52-1264427f0b5e",
   "metadata": {},
   "outputs": [],
   "source": [
    "df = concat2.groupby(['week_no','yr_no'])['Total_Discounts'].sum()\n",
    "df2 = df.reset_index()\n",
    "df2.sort_values(by = ['yr_no','week_no'], inplace = True)\n",
    "df2.reset_index(drop = True,inplace = True)"
   ]
  },
  {
   "cell_type": "code",
   "execution_count": 101,
   "id": "eef85a15-f41a-464d-99fb-ef23157caa90",
   "metadata": {},
   "outputs": [
    {
     "data": {
      "text/html": [
       "<div>\n",
       "<style scoped>\n",
       "    .dataframe tbody tr th:only-of-type {\n",
       "        vertical-align: middle;\n",
       "    }\n",
       "\n",
       "    .dataframe tbody tr th {\n",
       "        vertical-align: top;\n",
       "    }\n",
       "\n",
       "    .dataframe thead th {\n",
       "        text-align: right;\n",
       "    }\n",
       "</style>\n",
       "<table border=\"1\" class=\"dataframe\">\n",
       "  <thead>\n",
       "    <tr style=\"text-align: right;\">\n",
       "      <th></th>\n",
       "      <th>week_no</th>\n",
       "      <th>yr_no</th>\n",
       "      <th>Total_Discounts</th>\n",
       "    </tr>\n",
       "  </thead>\n",
       "  <tbody>\n",
       "    <tr>\n",
       "      <th>0</th>\n",
       "      <td>53</td>\n",
       "      <td>2020</td>\n",
       "      <td>345.90</td>\n",
       "    </tr>\n",
       "    <tr>\n",
       "      <th>1</th>\n",
       "      <td>1</td>\n",
       "      <td>2021</td>\n",
       "      <td>740.28</td>\n",
       "    </tr>\n",
       "    <tr>\n",
       "      <th>2</th>\n",
       "      <td>2</td>\n",
       "      <td>2021</td>\n",
       "      <td>452.56</td>\n",
       "    </tr>\n",
       "    <tr>\n",
       "      <th>3</th>\n",
       "      <td>3</td>\n",
       "      <td>2021</td>\n",
       "      <td>811.23</td>\n",
       "    </tr>\n",
       "    <tr>\n",
       "      <th>4</th>\n",
       "      <td>4</td>\n",
       "      <td>2021</td>\n",
       "      <td>872.10</td>\n",
       "    </tr>\n",
       "  </tbody>\n",
       "</table>\n",
       "</div>"
      ],
      "text/plain": [
       "   week_no  yr_no  Total_Discounts\n",
       "0       53   2020           345.90\n",
       "1        1   2021           740.28\n",
       "2        2   2021           452.56\n",
       "3        3   2021           811.23\n",
       "4        4   2021           872.10"
      ]
     },
     "execution_count": 101,
     "metadata": {},
     "output_type": "execute_result"
    }
   ],
   "source": [
    "df2.head()"
   ]
  },
  {
   "cell_type": "code",
   "execution_count": 102,
   "id": "cc02cafb-0004-45df-b6c3-5ec36b05a7d7",
   "metadata": {},
   "outputs": [
    {
     "data": {
      "text/html": [
       "<div>\n",
       "<style scoped>\n",
       "    .dataframe tbody tr th:only-of-type {\n",
       "        vertical-align: middle;\n",
       "    }\n",
       "\n",
       "    .dataframe tbody tr th {\n",
       "        vertical-align: top;\n",
       "    }\n",
       "\n",
       "    .dataframe thead th {\n",
       "        text-align: right;\n",
       "    }\n",
       "</style>\n",
       "<table border=\"1\" class=\"dataframe\">\n",
       "  <thead>\n",
       "    <tr style=\"text-align: right;\">\n",
       "      <th></th>\n",
       "      <th>week_no</th>\n",
       "      <th>yr_no</th>\n",
       "      <th>Gross_Sales</th>\n",
       "      <th>Net_Sales</th>\n",
       "      <th>Total_Discounts</th>\n",
       "      <th>obs_cnt</th>\n",
       "      <th>calnder_day</th>\n",
       "      <th>gross_sales_ma</th>\n",
       "    </tr>\n",
       "  </thead>\n",
       "  <tbody>\n",
       "    <tr>\n",
       "      <th>0</th>\n",
       "      <td>1</td>\n",
       "      <td>2021</td>\n",
       "      <td>24824.89</td>\n",
       "      <td>24084.61</td>\n",
       "      <td>740.28</td>\n",
       "      <td>7</td>\n",
       "      <td>2021-01-04</td>\n",
       "      <td>NaN</td>\n",
       "    </tr>\n",
       "    <tr>\n",
       "      <th>1</th>\n",
       "      <td>1</td>\n",
       "      <td>2022</td>\n",
       "      <td>22792.65</td>\n",
       "      <td>21552.18</td>\n",
       "      <td>1240.47</td>\n",
       "      <td>7</td>\n",
       "      <td>2022-01-03</td>\n",
       "      <td>17808.465</td>\n",
       "    </tr>\n",
       "    <tr>\n",
       "      <th>2</th>\n",
       "      <td>1</td>\n",
       "      <td>2023</td>\n",
       "      <td>22924.12</td>\n",
       "      <td>21561.63</td>\n",
       "      <td>1362.49</td>\n",
       "      <td>7</td>\n",
       "      <td>2023-01-02</td>\n",
       "      <td>16588.545</td>\n",
       "    </tr>\n",
       "    <tr>\n",
       "      <th>3</th>\n",
       "      <td>2</td>\n",
       "      <td>2021</td>\n",
       "      <td>23431.33</td>\n",
       "      <td>22978.77</td>\n",
       "      <td>452.56</td>\n",
       "      <td>7</td>\n",
       "      <td>2021-01-11</td>\n",
       "      <td>NaN</td>\n",
       "    </tr>\n",
       "    <tr>\n",
       "      <th>4</th>\n",
       "      <td>2</td>\n",
       "      <td>2022</td>\n",
       "      <td>21614.70</td>\n",
       "      <td>20977.93</td>\n",
       "      <td>636.77</td>\n",
       "      <td>7</td>\n",
       "      <td>2022-01-10</td>\n",
       "      <td>18653.820</td>\n",
       "    </tr>\n",
       "  </tbody>\n",
       "</table>\n",
       "</div>"
      ],
      "text/plain": [
       "   week_no  yr_no  Gross_Sales  Net_Sales  Total_Discounts  obs_cnt  \\\n",
       "0        1   2021     24824.89   24084.61           740.28        7   \n",
       "1        1   2022     22792.65   21552.18          1240.47        7   \n",
       "2        1   2023     22924.12   21561.63          1362.49        7   \n",
       "3        2   2021     23431.33   22978.77           452.56        7   \n",
       "4        2   2022     21614.70   20977.93           636.77        7   \n",
       "\n",
       "  calnder_day  gross_sales_ma  \n",
       "0  2021-01-04             NaN  \n",
       "1  2022-01-03       17808.465  \n",
       "2  2023-01-02       16588.545  \n",
       "3  2021-01-11             NaN  \n",
       "4  2022-01-10       18653.820  "
      ]
     },
     "execution_count": 102,
     "metadata": {},
     "output_type": "execute_result"
    }
   ],
   "source": [
    "test5.head()"
   ]
  },
  {
   "cell_type": "code",
   "execution_count": 56,
   "id": "d1642ef1-cf97-4573-b483-8f8667ce0124",
   "metadata": {},
   "outputs": [],
   "source": [
    "df2 = df2.assign(rolling_mean = df2.rolling(window = 4).agg({'Total_Discounts':'mean'}))"
   ]
  },
  {
   "cell_type": "code",
   "execution_count": 64,
   "id": "39f5d5aa-7f47-4bd7-bacb-f401acec895a",
   "metadata": {},
   "outputs": [],
   "source": [
    "test5_df2 = test5.merge(df2, how = 'inner',on=['yr_no','week_no'])"
   ]
  },
  {
   "cell_type": "code",
   "execution_count": 65,
   "id": "3f4882c3-367f-416d-a65c-79662ac325f6",
   "metadata": {},
   "outputs": [],
   "source": [
    "test5_df2['yr_no_str'] = test5_df2['yr_no'].astype(str)"
   ]
  },
  {
   "cell_type": "code",
   "execution_count": 66,
   "id": "08f01a78-7366-4cfa-ba43-ce1e42653bc1",
   "metadata": {},
   "outputs": [],
   "source": [
    "test5_df2['yr_wk_str'] = test5_df2['yr_no_str'].str.cat(test5_df2['week_no'].astype(str), sep = '-')"
   ]
  },
  {
   "cell_type": "code",
   "execution_count": 67,
   "id": "737f39b5-d5fc-4ccb-9e5f-81ce1fe104e1",
   "metadata": {},
   "outputs": [
    {
     "name": "stdout",
     "output_type": "stream",
     "text": [
      "(107, 4)\n",
      "(107, 8)\n",
      "(107, 12)\n"
     ]
    }
   ],
   "source": [
    "print(df2.shape)\n",
    "print(test5.shape)\n",
    "print(test5_df2.shape)"
   ]
  },
  {
   "cell_type": "code",
   "execution_count": 68,
   "id": "1f2046e0-7b3b-481b-9c3a-3cf49734d8fa",
   "metadata": {},
   "outputs": [
    {
     "data": {
      "text/plain": [
       "week_no             UInt32\n",
       "yr_no               UInt32\n",
       "Total_Discounts    float64\n",
       "rolling_mean       float64\n",
       "dtype: object"
      ]
     },
     "execution_count": 68,
     "metadata": {},
     "output_type": "execute_result"
    }
   ],
   "source": [
    "df2.dtypes"
   ]
  },
  {
   "cell_type": "code",
   "execution_count": 75,
   "id": "0d5dd6b9-c926-4f17-abcb-bde1919df26f",
   "metadata": {},
   "outputs": [
    {
     "data": {
      "text/html": [
       "<div>\n",
       "<style scoped>\n",
       "    .dataframe tbody tr th:only-of-type {\n",
       "        vertical-align: middle;\n",
       "    }\n",
       "\n",
       "    .dataframe tbody tr th {\n",
       "        vertical-align: top;\n",
       "    }\n",
       "\n",
       "    .dataframe thead th {\n",
       "        text-align: right;\n",
       "    }\n",
       "</style>\n",
       "<table border=\"1\" class=\"dataframe\">\n",
       "  <thead>\n",
       "    <tr style=\"text-align: right;\">\n",
       "      <th></th>\n",
       "      <th>week_no</th>\n",
       "      <th>yr_no</th>\n",
       "      <th>Gross_Sales</th>\n",
       "      <th>Net_Sales</th>\n",
       "      <th>Total_Discounts_x</th>\n",
       "      <th>obs_cnt</th>\n",
       "      <th>calnder_day</th>\n",
       "      <th>net_sales_ma</th>\n",
       "      <th>Total_Discounts_y</th>\n",
       "      <th>rolling_mean</th>\n",
       "      <th>yr_no_str</th>\n",
       "      <th>yr_wk_str</th>\n",
       "      <th>sales_disc_ratio</th>\n",
       "    </tr>\n",
       "  </thead>\n",
       "  <tbody>\n",
       "    <tr>\n",
       "      <th>101</th>\n",
       "      <td>50</td>\n",
       "      <td>2022</td>\n",
       "      <td>17487.32</td>\n",
       "      <td>16477.88</td>\n",
       "      <td>1009.44</td>\n",
       "      <td>7</td>\n",
       "      <td>2022-12-12</td>\n",
       "      <td>17790.6700</td>\n",
       "      <td>1009.44</td>\n",
       "      <td>859.1250</td>\n",
       "      <td>2022</td>\n",
       "      <td>2022-50</td>\n",
       "      <td>0.048291</td>\n",
       "    </tr>\n",
       "    <tr>\n",
       "      <th>103</th>\n",
       "      <td>51</td>\n",
       "      <td>2022</td>\n",
       "      <td>12028.11</td>\n",
       "      <td>11295.78</td>\n",
       "      <td>732.33</td>\n",
       "      <td>7</td>\n",
       "      <td>2022-12-19</td>\n",
       "      <td>16414.9450</td>\n",
       "      <td>732.33</td>\n",
       "      <td>799.1975</td>\n",
       "      <td>2022</td>\n",
       "      <td>2022-51</td>\n",
       "      <td>0.048687</td>\n",
       "    </tr>\n",
       "    <tr>\n",
       "      <th>105</th>\n",
       "      <td>52</td>\n",
       "      <td>2022</td>\n",
       "      <td>13914.63</td>\n",
       "      <td>12288.92</td>\n",
       "      <td>1625.71</td>\n",
       "      <td>7</td>\n",
       "      <td>2022-12-26</td>\n",
       "      <td>14585.1900</td>\n",
       "      <td>1625.71</td>\n",
       "      <td>962.1750</td>\n",
       "      <td>2022</td>\n",
       "      <td>2022-52</td>\n",
       "      <td>0.065969</td>\n",
       "    </tr>\n",
       "    <tr>\n",
       "      <th>2</th>\n",
       "      <td>1</td>\n",
       "      <td>2023</td>\n",
       "      <td>22924.12</td>\n",
       "      <td>21561.63</td>\n",
       "      <td>1362.49</td>\n",
       "      <td>7</td>\n",
       "      <td>2023-01-02</td>\n",
       "      <td>15406.0525</td>\n",
       "      <td>1362.49</td>\n",
       "      <td>1182.4925</td>\n",
       "      <td>2023</td>\n",
       "      <td>2023-1</td>\n",
       "      <td>0.076755</td>\n",
       "    </tr>\n",
       "    <tr>\n",
       "      <th>5</th>\n",
       "      <td>2</td>\n",
       "      <td>2023</td>\n",
       "      <td>20642.90</td>\n",
       "      <td>20005.68</td>\n",
       "      <td>637.22</td>\n",
       "      <td>7</td>\n",
       "      <td>2023-01-09</td>\n",
       "      <td>16288.0025</td>\n",
       "      <td>637.22</td>\n",
       "      <td>1089.4375</td>\n",
       "      <td>2023</td>\n",
       "      <td>2023-2</td>\n",
       "      <td>0.066886</td>\n",
       "    </tr>\n",
       "  </tbody>\n",
       "</table>\n",
       "</div>"
      ],
      "text/plain": [
       "     week_no  yr_no  Gross_Sales  Net_Sales  Total_Discounts_x  obs_cnt  \\\n",
       "101       50   2022     17487.32   16477.88            1009.44        7   \n",
       "103       51   2022     12028.11   11295.78             732.33        7   \n",
       "105       52   2022     13914.63   12288.92            1625.71        7   \n",
       "2          1   2023     22924.12   21561.63            1362.49        7   \n",
       "5          2   2023     20642.90   20005.68             637.22        7   \n",
       "\n",
       "    calnder_day  net_sales_ma  Total_Discounts_y  rolling_mean yr_no_str  \\\n",
       "101  2022-12-12    17790.6700            1009.44      859.1250      2022   \n",
       "103  2022-12-19    16414.9450             732.33      799.1975      2022   \n",
       "105  2022-12-26    14585.1900            1625.71      962.1750      2022   \n",
       "2    2023-01-02    15406.0525            1362.49     1182.4925      2023   \n",
       "5    2023-01-09    16288.0025             637.22     1089.4375      2023   \n",
       "\n",
       "    yr_wk_str  sales_disc_ratio  \n",
       "101   2022-50          0.048291  \n",
       "103   2022-51          0.048687  \n",
       "105   2022-52          0.065969  \n",
       "2      2023-1          0.076755  \n",
       "5      2023-2          0.066886  "
      ]
     },
     "execution_count": 75,
     "metadata": {},
     "output_type": "execute_result"
    }
   ],
   "source": [
    "to_chart.tail()"
   ]
  },
  {
   "cell_type": "code",
   "execution_count": 86,
   "id": "219424f3-04c5-4710-9e09-712c22f0c381",
   "metadata": {},
   "outputs": [
    {
     "data": {
      "image/png": "[encoded data removed]",
      "text/plain": [
       "<Figure size 1080x1080 with 2 Axes>"
      ]
     },
     "metadata": {
      "needs_background": "light"
     },
     "output_type": "display_data"
    }
   ],
   "source": [
    "to_chart = test5_df2.loc[test5_df2['yr_no']>2021,].sort_values(['yr_no','week_no'])\n",
    "#ratio of 4-wk MA of gross sales & Discounts\n",
    "to_chart['sales_disc_ratio'] = to_chart['rolling_mean']/to_chart['net_sales_ma']\n",
    "\n",
    "fig,ax1 = plt.subplots(figsize=(15,15))\n",
    "ax2 = ax1.twinx()\n",
    "\n",
    "ax1.set_title('Net Sales and Discounts Performance', fontsize=15)\n",
    "ax1.set_xlabel('Week Number')\n",
    "\n",
    "#ax.set_ylim([10000,30000])\n",
    "ax2.set_ylim([0,.25])\n",
    "\n",
    "colors = {2021:'blue', 2022:'orange', 2023:'green'}\n",
    "#ax.scatter(df['population'], df['Area'], c=df['continent'].map(colors))\n",
    "\n",
    "ax1.plot(to_chart['yr_wk_str'], to_chart['Net_Sales'],label = 'Net sales')\n",
    "#scatter plot to highlight actual data points of the line graphs\n",
    "ax1.scatter(to_chart['yr_wk_str'], to_chart['Net_Sales'])\n",
    "#gross discounts\n",
    "ax1.plot(to_chart['yr_wk_str'], to_chart['Total_Discounts_y'],label = 'Total discounts')\n",
    "#moving avg of discounts\n",
    "ax1.plot(to_chart['yr_wk_str'], to_chart['rolling_mean'],label = 'Discounts moving avg')\n",
    "#ratio of sales-to-discount ratio\n",
    "ax2.bar(to_chart['yr_wk_str'], to_chart['sales_disc_ratio'],alpha = 0.2, label = 'Discounts/NetSales Ratio', color = 'purple')\n",
    "ax1.legend(loc = 'upper left')\n",
    "ax2.legend(loc = 'upper right')\n",
    "labels = ax1.get_xticklabels()\n",
    "plt.setp(labels, rotation=45, horizontalalignment='center')\n",
    "\n",
    "#set label for 2nd axis\n",
    "ax2.set_ylabel('Moving Avg discounts to Moving Avg net sales ratio', fontsize = 12)\n",
    "ax2.yaxis.set_major_formatter(mtick.PercentFormatter(xmax = 1.0))\n",
    "ax1.set_ylabel('$dollars', fontsize = 14)\n",
    "\n",
    "plt.show()\n",
    "\n",
    "fig.savefig(\"sales_disc.pdf\", bbox_inches='tight', dpi=600)"
   ]
  }
 ],
 "metadata": {
  "kernelspec": {
   "display_name": "py12",
   "language": "python",
   "name": "python3"
  },
  "language_info": {
   "codemirror_mode": {
    "name": "ipython",
    "version": 3
   },
   "file_extension": ".py",
   "mimetype": "text/x-python",
   "name": "python",
   "nbconvert_exporter": "python",
   "pygments_lexer": "ipython3",
   "version": "3.12.2"
  }
 },
 "nbformat": 4,
 "nbformat_minor": 5
}
